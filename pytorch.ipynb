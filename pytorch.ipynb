{
  "nbformat": 4,
  "nbformat_minor": 0,
  "metadata": {
    "colab": {
      "provenance": [],
      "authorship_tag": "ABX9TyMNZp5G0B1U2e137u84DxcH",
      "include_colab_link": true
    },
    "kernelspec": {
      "name": "python3",
      "display_name": "Python 3"
    },
    "language_info": {
      "name": "python"
    }
  },
  "cells": [
    {
      "cell_type": "markdown",
      "metadata": {
        "id": "view-in-github",
        "colab_type": "text"
      },
      "source": [
        "<a href=\"https://colab.research.google.com/github/srirangan9224/ML-practice/blob/main/pytorch.ipynb\" target=\"_parent\"><img src=\"https://colab.research.google.com/assets/colab-badge.svg\" alt=\"Open In Colab\"/></a>"
      ]
    },
    {
      "cell_type": "code",
      "execution_count": null,
      "metadata": {
        "id": "x0zh-L008POP"
      },
      "outputs": [],
      "source": [
        "import torch # imports pytorch\n",
        "import numpy as np\n",
        "# works similiarly and is compatible with pytorch"
      ]
    },
    {
      "cell_type": "code",
      "source": [
        "a = torch.ones(10) # is wrapped as a tensor\n",
        "print(type(a))\n",
        "a = np.ones(10) # is wrapped as an array\n",
        "print(type(a))\n",
        "\n",
        "# use from_numpy to convert from numpy to torch\n",
        "torch.from_numpy(a)"
      ],
      "metadata": {
        "colab": {
          "base_uri": "https://localhost:8080/"
        },
        "id": "nYlMBWuKB91a",
        "outputId": "ea912d69-b44e-4c50-9686-d47a0fe03a39"
      },
      "execution_count": null,
      "outputs": [
        {
          "output_type": "stream",
          "name": "stdout",
          "text": [
            "<class 'torch.Tensor'>\n",
            "<class 'numpy.ndarray'>\n"
          ]
        },
        {
          "output_type": "execute_result",
          "data": {
            "text/plain": [
              "tensor([1., 1., 1., 1., 1., 1., 1., 1., 1., 1.], dtype=torch.float64)"
            ]
          },
          "metadata": {},
          "execution_count": 2
        }
      ]
    },
    {
      "cell_type": "code",
      "source": [
        "# create arrays/tensors in pytorch\n",
        "tensor_1 = torch.tensor((1,2,3,4))\n",
        "tensor_2 = torch.tensor((4.))\n",
        "tensor_3 = torch.tensor(((1,2),(3,4)))\n",
        "\n",
        "print(tensor_1,tensor_2,tensor_3)"
      ],
      "metadata": {
        "colab": {
          "base_uri": "https://localhost:8080/"
        },
        "id": "w-VpzuUNDjWH",
        "outputId": "7fcae89f-1301-456e-d8c7-a629fcfa3ee3"
      },
      "execution_count": null,
      "outputs": [
        {
          "output_type": "stream",
          "name": "stdout",
          "text": [
            "tensor([1, 2, 3, 4]) tensor(4.) tensor([[1, 2],\n",
            "        [3, 4]])\n"
          ]
        }
      ]
    },
    {
      "cell_type": "markdown",
      "source": [
        "**Datasets**"
      ],
      "metadata": {
        "id": "ChZ8hWSwFslU"
      }
    },
    {
      "cell_type": "code",
      "source": [
        "# creating datasets in pytorch\n",
        "from torch.utils.data import Dataset,DataLoader\n",
        "\n",
        "class Quadratic_dataset(Dataset):\n",
        "  def __init__(self):\n",
        "    self.x = torch.linspace(-10,10,1000).reshape((1000,1)) # create a tensor and then reshape into a matrix of the given shape\n",
        "    self.y = self.x ** 2 # perform the operation of sqauring the values in self.x\n",
        "\n",
        "  def __len__(self): # overload the len function\n",
        "    return self.x.shape[0]\n",
        "\n",
        "  def __getitem__(self,index): # overload indices\n",
        "    return self.x[index],self.y[index]"
      ],
      "metadata": {
        "id": "1ZS6EXEYEQ0m"
      },
      "execution_count": null,
      "outputs": []
    },
    {
      "cell_type": "code",
      "source": [
        "# testing the dataset\n",
        "import matplotlib.pyplot as plt\n",
        "\n",
        "dataset = Quadratic_dataset()\n",
        "\n",
        "plt.plot(dataset.x,dataset.y, ls=\"--\") # ls is the attribute that controls wheter the plot is continuous or dotted or lines\n",
        "\n",
        "plt.title(\"quadratic function\")\n",
        "\n",
        "plt.show()"
      ],
      "metadata": {
        "colab": {
          "base_uri": "https://localhost:8080/",
          "height": 452
        },
        "id": "nVhci8XFJ8CZ",
        "outputId": "8b5a0d4c-1b0b-47fa-d24c-5949ff5bacec"
      },
      "execution_count": null,
      "outputs": [
        {
          "output_type": "display_data",
          "data": {
            "text/plain": [
              "<Figure size 640x480 with 1 Axes>"
            ],
            "image/png": "[encoded data removed]"
          },
          "metadata": {}
        }
      ]
    },
    {
      "cell_type": "code",
      "source": [
        "# loading data using Dataloader\n",
        "\n",
        "BATCH_SIZE = 10\n",
        "\n",
        "dataloader = DataLoader(dataset,batch_size=BATCH_SIZE, shuffle=True)\n",
        "\n",
        "for x,y in dataloader:\n",
        "  x,y # prints the data created into batch size sized sets of x and y values"
      ],
      "metadata": {
        "id": "vUUdVsxlN1J8"
      },
      "execution_count": null,
      "outputs": []
    },
    {
      "cell_type": "code",
      "source": [
        "# create a new model for learning\n",
        "from torch import nn\n",
        "\n",
        "class MyModel(nn.Module):\n",
        "  def __init__(self):\n",
        "    super(MyModel,self).__init__() # initialzes the given class as a pytroch nn module\n",
        "    self.fc1 = nn.Linear(1,100) # create a fully connected layer in pytorch\n",
        "    self.act1 = nn.ReLU() # creates a RELU (Rectfied linear unit) activation function\n",
        "    self.fc2 = nn.Linear(100,1) # create another fully connected layer\n",
        "    self.act2 = nn.ReLU()\n",
        "\n",
        "  def forward(self,x):\n",
        "    out = self.fc1(x)\n",
        "    out = self.act1(out)\n",
        "    out = self.fc2(out)\n",
        "    out = self.act2(out)\n",
        "    return out"
      ],
      "metadata": {
        "id": "hDjraZOlr-gw"
      },
      "execution_count": null,
      "outputs": []
    },
    {
      "cell_type": "code",
      "source": [
        "# test the model\n",
        "\n",
        "model = MyModel()\n",
        "model(torch.tensor([5.]))"
      ],
      "metadata": {
        "colab": {
          "base_uri": "https://localhost:8080/"
        },
        "id": "fHSD_xvSuzvF",
        "outputId": "3434aa05-ae04-43c6-e262-56521b7b9a3d"
      },
      "execution_count": null,
      "outputs": [
        {
          "output_type": "execute_result",
          "data": {
            "text/plain": [
              "tensor([0.5112], grad_fn=<ReluBackward0>)"
            ]
          },
          "metadata": {},
          "execution_count": 8
        }
      ]
    },
    {
      "cell_type": "code",
      "source": [
        "# training a model\n",
        "\n",
        "from tqdm import tqdm # function in the tqdm module print a progress bar to show how much of the epoch is done.\n",
        "\n",
        "LEARNING_RATE = 1e-3 # the rate at which the model learns stuff\n",
        "EPOCH = 100 # visits every singe data points 100 times\n",
        "\n",
        "loss = nn.MSELoss() # define a loss function based on Mean Squared error loss function\n",
        "optimizer = torch.optim.Adam(model.parameters(), lr=LEARNING_RATE) # define an optimizer function called Adam\n",
        "\n",
        "epoch_losses = []\n",
        "\n",
        "\n",
        "for epoch in tqdm(range(EPOCH)):\n",
        "  epoch_loss = 0\n",
        "  for x,y in dataloader:\n",
        "    y_pred = model(x)\n",
        "    y_loss = loss(y_pred,y)\n",
        "    y_loss.backward() # backpropogates throught the nn\n",
        "    optimizer.step() # updates the values based on the loss\n",
        "    optimizer.zero_grad() # zeros the gradient after updating the variables\n",
        "    epoch_loss += y_loss.item()\n",
        "  epoch_losses.append(epoch_loss/len(dataloader))\n"
      ],
      "metadata": {
        "colab": {
          "base_uri": "https://localhost:8080/"
        },
        "id": "y4CWCnP5yQWu",
        "outputId": "acaf6a05-70dc-4fb3-aa30-101703df76f8"
      },
      "execution_count": null,
      "outputs": [
        {
          "output_type": "stream",
          "name": "stderr",
          "text": [
            "100%|██████████| 100/100 [00:14<00:00,  6.82it/s]\n"
          ]
        }
      ]
    },
    {
      "cell_type": "code",
      "source": [
        "# plot the losses on a graph\n",
        "import numpy as np\n",
        "import matplotlib.pyplot as plt\n",
        "\n",
        "plt.plot(np.arange(EPOCH),epoch_losses)"
      ],
      "metadata": {
        "id": "AxjraMboz_Pu",
        "colab": {
          "base_uri": "https://localhost:8080/",
          "height": 448
        },
        "outputId": "4d7374f6-0fe3-4430-92a5-d483531fa09e"
      },
      "execution_count": null,
      "outputs": [
        {
          "output_type": "execute_result",
          "data": {
            "text/plain": [
              "[<matplotlib.lines.Line2D at 0x7bdb7dfd3890>]"
            ]
          },
          "metadata": {},
          "execution_count": 19
        },
        {
          "output_type": "display_data",
          "data": {
            "text/plain": [
              "<Figure size 640x480 with 1 Axes>"
            ],
            "image/png": "[encoded data removed]"
          },
          "metadata": {}
        }
      ]
    }
  ]
}